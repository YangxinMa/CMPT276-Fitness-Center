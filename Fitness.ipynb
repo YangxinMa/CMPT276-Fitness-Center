{
 "cells": [
  {
   "cell_type": "code",
   "execution_count": 1,
   "metadata": {},
   "outputs": [],
   "source": [
    "%load_ext sql"
   ]
  },
  {
   "cell_type": "code",
   "execution_count": 2,
   "metadata": {},
   "outputs": [
    {
     "data": {
      "text/plain": [
       "u'Connected: @fitness.db'"
      ]
     },
     "execution_count": 2,
     "metadata": {},
     "output_type": "execute_result"
    }
   ],
   "source": [
    "%sql sqlite:///fitness.db"
   ]
  },
  {
   "cell_type": "code",
   "execution_count": 9,
   "metadata": {},
   "outputs": [
    {
     "name": "stdout",
     "output_type": "stream",
     "text": [
      " * sqlite:///fitness.db\n",
      "Done.\n"
     ]
    },
    {
     "data": {
      "text/plain": [
       "[]"
      ]
     },
     "execution_count": 9,
     "metadata": {},
     "output_type": "execute_result"
    }
   ],
   "source": [
    "%%sql\n",
    "DROP TABLE User;"
   ]
  },
  {
   "cell_type": "code",
   "execution_count": 10,
   "metadata": {},
   "outputs": [
    {
     "name": "stdout",
     "output_type": "stream",
     "text": [
      " * sqlite:///fitness.db\n",
      "Done.\n"
     ]
    },
    {
     "data": {
      "text/plain": [
       "[]"
      ]
     },
     "execution_count": 10,
     "metadata": {},
     "output_type": "execute_result"
    }
   ],
   "source": [
    "%%sql\n",
    "CREATE TABLE User (\n",
    "userid integer, \n",
    "firstName char(15) NOT NULL, \n",
    "lastName char(15) NOT NULL, \n",
    "age integer,\n",
    "weight double,\n",
    "height double,\n",
    "target double,\n",
    "PRIMARY KEY (userid)\n",
    ");"
   ]
  },
  {
   "cell_type": "code",
   "execution_count": 15,
   "metadata": {},
   "outputs": [
    {
     "name": "stdout",
     "output_type": "stream",
     "text": [
      " * sqlite:///fitness.db\n",
      "Done.\n"
     ]
    },
    {
     "data": {
      "text/plain": [
       "[]"
      ]
     },
     "execution_count": 15,
     "metadata": {},
     "output_type": "execute_result"
    }
   ],
   "source": [
    "%%sql\n",
    "DROP TABLE Food;"
   ]
  },
  {
   "cell_type": "code",
   "execution_count": 16,
   "metadata": {},
   "outputs": [
    {
     "name": "stdout",
     "output_type": "stream",
     "text": [
      " * sqlite:///fitness.db\n",
      "Done.\n"
     ]
    },
    {
     "data": {
      "text/plain": [
       "[]"
      ]
     },
     "execution_count": 16,
     "metadata": {},
     "output_type": "execute_result"
    }
   ],
   "source": [
    "%%sql\n",
    "CREATE TABLE Food (\n",
    "name varchar(30), \n",
    "weight double,\n",
    "cardio double,\n",
    "carbon double,\n",
    "protein double,\n",
    "sodium double,\n",
    "PRIMARY KEY (name)\n",
    ");"
   ]
  },
  {
   "cell_type": "code",
   "execution_count": 14,
   "metadata": {},
   "outputs": [
    {
     "name": "stdout",
     "output_type": "stream",
     "text": [
      " * sqlite:///fitness.db\n",
      "Done.\n"
     ]
    },
    {
     "data": {
      "text/plain": [
       "[]"
      ]
     },
     "execution_count": 14,
     "metadata": {},
     "output_type": "execute_result"
    }
   ],
   "source": [
    "%%sql\n",
    "CREATE TABLE selfExercise (\n",
    "type char(15), \n",
    "name char(15),\n",
    "duration integer,\n",
    "cardio double,\n",
    "difficultLevel integer,\n",
    "bodyFocus char(15),\n",
    "PRIMARY KEY (name)\n",
    ");"
   ]
  },
  {
   "cell_type": "code",
   "execution_count": 23,
   "metadata": {},
   "outputs": [
    {
     "name": "stdout",
     "output_type": "stream",
     "text": [
      " * sqlite:///fitness.db\n",
      "Done.\n"
     ]
    },
    {
     "data": {
      "text/plain": [
       "[]"
      ]
     },
     "execution_count": 23,
     "metadata": {},
     "output_type": "execute_result"
    }
   ],
   "source": [
    "%%sql\n",
    "DROP TABLE gym;"
   ]
  },
  {
   "cell_type": "code",
   "execution_count": 24,
   "metadata": {},
   "outputs": [
    {
     "name": "stdout",
     "output_type": "stream",
     "text": [
      " * sqlite:///fitness.db\n",
      "Done.\n"
     ]
    },
    {
     "data": {
      "text/plain": [
       "[]"
      ]
     },
     "execution_count": 24,
     "metadata": {},
     "output_type": "execute_result"
    }
   ],
   "source": [
    "%%sql\n",
    "CREATE TABLE gym (\n",
    "id integer, \n",
    "address varchar(255),\n",
    "openTime time,\n",
    "closeTime time,\n",
    "phone integer,\n",
    "email varchar(255),\n",
    "className varchar(255),\n",
    "name varchar(30),\n",
    "trainingFocus varchar(30),\n",
    "PRIMARY KEY (id)\n",
    ");"
   ]
  },
  {
   "cell_type": "code",
   "execution_count": 31,
   "metadata": {},
   "outputs": [
    {
     "name": "stdout",
     "output_type": "stream",
     "text": [
      " * sqlite:///fitness.db\n",
      "Done.\n"
     ]
    },
    {
     "data": {
      "text/plain": [
       "[]"
      ]
     },
     "execution_count": 31,
     "metadata": {},
     "output_type": "execute_result"
    }
   ],
   "source": [
    "%%sql\n",
    "DROP TABLE fitnessClass;"
   ]
  },
  {
   "cell_type": "code",
   "execution_count": 33,
   "metadata": {},
   "outputs": [
    {
     "name": "stdout",
     "output_type": "stream",
     "text": [
      " * sqlite:///fitness.db\n",
      "Done.\n"
     ]
    },
    {
     "data": {
      "text/plain": [
       "[]"
      ]
     },
     "execution_count": 33,
     "metadata": {},
     "output_type": "execute_result"
    }
   ],
   "source": [
    "%%sql\n",
    "CREATE TABLE fitnessClass (\n",
    "id integer, \n",
    "name char(255),\n",
    "duration integer,\n",
    "cardio double,\n",
    "trainingFocus varchar(30),\n",
    "startTime datetime DEFAULT '0000-00-00-00-00-00',\n",
    "gymid integer,\n",
    "PRIMARY KEY (id),\n",
    "FOREIGN KEY(gymid)\n",
    "REFERENCES gym\n",
    "ON DELETE CASCADE\n",
    ");"
   ]
  },
  {
   "cell_type": "code",
   "execution_count": 34,
   "metadata": {},
   "outputs": [
    {
     "name": "stdout",
     "output_type": "stream",
     "text": [
      " * sqlite:///fitness.db\n",
      "Done.\n"
     ]
    },
    {
     "data": {
      "text/plain": [
       "[]"
      ]
     },
     "execution_count": 34,
     "metadata": {},
     "output_type": "execute_result"
    }
   ],
   "source": [
    "%%sql\n",
    "CREATE TABLE plan (\n",
    "id integer, \n",
    "weight double,\n",
    "period integer,\n",
    "target double,\n",
    "cardioPerDay double,\n",
    "PRIMARY KEY (id)\n",
    ");"
   ]
  },
  {
   "cell_type": "code",
   "execution_count": 36,
   "metadata": {},
   "outputs": [
    {
     "name": "stdout",
     "output_type": "stream",
     "text": [
      " * sqlite:///fitness.db\n",
      "Done.\n"
     ]
    },
    {
     "data": {
      "text/plain": [
       "[]"
      ]
     },
     "execution_count": 36,
     "metadata": {},
     "output_type": "execute_result"
    }
   ],
   "source": [
    "%%sql\n",
    "CREATE TABLE have (\n",
    "userid integer, \n",
    "id integer,\n",
    "PRIMARY KEY (userid,id),\n",
    "FOREIGN KEY (userid) references User,\n",
    "FOREIGN KEY (id) references plan\n",
    ");"
   ]
  },
  {
   "cell_type": "code",
   "execution_count": 38,
   "metadata": {
    "scrolled": true
   },
   "outputs": [
    {
     "name": "stdout",
     "output_type": "stream",
     "text": [
      " * sqlite:///fitness.db\n",
      "Done.\n"
     ]
    },
    {
     "data": {
      "text/plain": [
       "[]"
      ]
     },
     "execution_count": 38,
     "metadata": {},
     "output_type": "execute_result"
    }
   ],
   "source": [
    "%%sql\n",
    "CREATE TABLE include ( \n",
    "id integer,\n",
    "selfExerciseName char(15),\n",
    "fitnessClassId integer,\n",
    "PRIMARY KEY (id,selfExerciseName,fitnessClassId),\n",
    "FOREIGN KEY (id) references plan,\n",
    "FOREIGN KEY (selfExerciseName) references selfExercise,\n",
    "FOREIGN KEY (fitnessClassId) references fitnessClass\n",
    ");"
   ]
  },
  {
   "cell_type": "code",
   "execution_count": 39,
   "metadata": {},
   "outputs": [
    {
     "name": "stdout",
     "output_type": "stream",
     "text": [
      " * sqlite:///fitness.db\n",
      "10 rows affected.\n"
     ]
    },
    {
     "data": {
      "text/plain": [
       "[]"
      ]
     },
     "execution_count": 39,
     "metadata": {},
     "output_type": "execute_result"
    }
   ],
   "source": [
    "%%sql\n",
    "INSERT INTO User(userid, firstName, lastName, age, weight, height, target)\n",
    "VALUES\n",
    "(0, 'Alex', 'Ash', 20, 100, 180, 80),\n",
    "(1, 'Ben', 'Lex', 21, 95, 178, 90),\n",
    "(2, 'Frank', 'Ben', 15, 75, 167, 60),\n",
    "(3, 'Lawrence', 'Xu', 20, 120, 192, 90),\n",
    "(4, 'Jrex', 'Ben', 28, 110, 185, 95),\n",
    "(5, 'Wendy', 'Hank', 19, 60, 162, 50),\n",
    "(6, 'Ark', 'Handy', 20, 95, 178, 80),\n",
    "(7, 'Hao', 'Wang', 24, 80, 172, 70),\n",
    "(8, 'Mark', 'Chalice', 14, 80, 172, 70),\n",
    "(9, 'Jack', 'Steven', 30, 90, 172, 75)"
   ]
  },
  {
   "cell_type": "code",
   "execution_count": 44,
   "metadata": {},
   "outputs": [
    {
     "name": "stdout",
     "output_type": "stream",
     "text": [
      " * sqlite:///fitness.db\n",
      "10 rows affected.\n"
     ]
    },
    {
     "data": {
      "text/plain": [
       "[]"
      ]
     },
     "execution_count": 44,
     "metadata": {},
     "output_type": "execute_result"
    }
   ],
   "source": [
    "%%sql\n",
    "INSERT INTO Food(name, weight, cardio, carbon, protein, sodium)\n",
    "VALUES\n",
    "('Apple', 100, 52, 13.8, 0.2, 10),\n",
    "('Banana', 100, 89, 22.8, 1, 10),\n",
    "('Beef', 100, 299, 4.2, 109, 1013),\n",
    "('Broccoli', 100, 34, 6.6, 2.8, 33),\n",
    "('Chicken', 100, 141, 0, 30.5, 99.9),\n",
    "('Egg', 100, 143, 0.7, 12.5, 142),\n",
    "('Lamb', 1000, 2060, 40, 320, 750),\n",
    "('Orange', 1000, 470, 117, 9, 120),\n",
    "('Potato', 1000, 580, 124, 25, 100),\n",
    "('Rice', 1000, 1010, 213, 39, 30)"
   ]
  },
  {
   "cell_type": "code",
   "execution_count": null,
   "metadata": {},
   "outputs": [],
   "source": []
  }
 ],
 "metadata": {
  "kernelspec": {
   "display_name": "Python 2",
   "language": "python",
   "name": "python2"
  },
  "language_info": {
   "codemirror_mode": {
    "name": "ipython",
    "version": 2
   },
   "file_extension": ".py",
   "mimetype": "text/x-python",
   "name": "python",
   "nbconvert_exporter": "python",
   "pygments_lexer": "ipython2",
   "version": "2.7.16"
  }
 },
 "nbformat": 4,
 "nbformat_minor": 2
}
